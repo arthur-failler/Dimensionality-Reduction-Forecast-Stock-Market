{
 "cells": [
  {
   "cell_type": "code",
   "execution_count": 505,
   "metadata": {},
   "outputs": [],
   "source": [
    "import yfinance as yf\n",
    "import pandas as pd\n",
    "import numpy as np\n",
    "import matplotlib.pyplot as plt"
   ]
  },
  {
   "cell_type": "markdown",
   "metadata": {},
   "source": [
    "### Get the SPY data from yahoo finance:"
   ]
  },
  {
   "cell_type": "code",
   "execution_count": 506,
   "metadata": {},
   "outputs": [
    {
     "name": "stderr",
     "output_type": "stream",
     "text": [
      "[*********************100%%**********************]  1 of 1 completed\n"
     ]
    }
   ],
   "source": [
    "start_date = \"2003-06-01\"\n",
    "end_date = \"2013-05-31\"\n",
    "\n",
    "data = yf.download(\"SPY\", start=start_date, end=end_date)\n",
    "data.reset_index(inplace=True)\n",
    "\n",
    "# SPY volume\n",
    "data.drop(columns={'Open', 'High', 'Low', 'Adj Close'}, inplace=True)\n",
    "\n",
    "# SPY returns of current and past days\n",
    "data['SPYt'] = data['Close'].pct_change()\n",
    "data['SPYt1'] = data['SPYt'].shift(1)\n",
    "data['SPYt2'] = data['SPYt'].shift(2)\n",
    "data['SPYt3'] = data['SPYt'].shift(3)\n",
    "\n",
    "# Calculate relative differences in percentage\n",
    "data['RDP5'] = ((data['Close'] - data['Close'].shift(5)) / data['Close'].shift(5)) * 100\n",
    "data['RDP10'] = ((data['Close'] - data['Close'].shift(10)) / data['Close'].shift(10)) * 100\n",
    "data['RDP15'] = ((data['Close'] - data['Close'].shift(15)) / data['Close'].shift(15)) * 100\n",
    "data['RDP20'] = ((data['Close'] - data['Close'].shift(20)) / data['Close'].shift(20)) * 100\n",
    "\n",
    "# Calculate exponential moving averages\n",
    "data['EMA10'] = data['Close'].ewm(span=10, adjust=False).mean()\n",
    "data['EMA20'] = data['Close'].ewm(span=20, adjust=False).mean()\n",
    "data['EMA50'] = data['Close'].ewm(span=50, adjust=False).mean()\n",
    "data['EMA200'] = data['Close'].ewm(span=200, adjust=False).mean()"
   ]
  },
  {
   "cell_type": "markdown",
   "metadata": {},
   "source": [
    "### Get the T-bill rates from downloaded public datasets:"
   ]
  },
  {
   "cell_type": "code",
   "execution_count": 507,
   "metadata": {},
   "outputs": [],
   "source": [
    "# T-bill rates\n",
    "tbill_T1 = pd.read_csv('DGS1MO.csv')\n",
    "tbill_T3 = pd.read_csv('DGS3MO.csv')\n",
    "tbill_T6 = pd.read_csv('DGS6MO.csv')\n",
    "tbill_T60 = pd.read_csv('DGS5.csv')\n",
    "tbill_T120 = pd.read_csv('DGS10.csv')\n",
    "\n",
    "tbill_T1.rename(columns={'DGS1MO' : 'T1'}, inplace=True)\n",
    "tbill_T1['DATE'] = pd.to_datetime(tbill_T1['DATE'])\n",
    "data = pd.merge(data, tbill_T1, left_on='Date', right_on='DATE', how='left', suffixes=('', '_T1'))\n",
    "data.drop(columns={'DATE'}, inplace=True)\n",
    "\n",
    "tbill_T3.rename(columns={'DGS3MO' : 'T3'}, inplace=True)\n",
    "tbill_T3['DATE'] = pd.to_datetime(tbill_T3['DATE'])\n",
    "data = pd.merge(data, tbill_T3, left_on='Date', right_on='DATE', how='left', suffixes=('', '_T2'))\n",
    "data.drop(columns={'DATE'}, inplace=True)\n",
    "\n",
    "tbill_T6.rename(columns={'DGS6MO' : 'T6'}, inplace=True)\n",
    "tbill_T6['DATE'] = pd.to_datetime(tbill_T6['DATE'])\n",
    "data = pd.merge(data, tbill_T6, left_on='Date', right_on='DATE', how='left', suffixes=('', '_T3'))\n",
    "data.drop(columns={'DATE'}, inplace=True)\n",
    "\n",
    "tbill_T60.rename(columns={'DGS5' : 'T60'}, inplace=True)\n",
    "tbill_T60['DATE'] = pd.to_datetime(tbill_T60['DATE'])\n",
    "data = pd.merge(data, tbill_T60, left_on='Date', right_on='DATE', how='left', suffixes=('', '_T4'))\n",
    "data.drop(columns={'DATE'}, inplace=True)\n",
    "\n",
    "tbill_T120.rename(columns={'DGS10' : 'T120'}, inplace=True)\n",
    "tbill_T120['DATE'] = pd.to_datetime(tbill_T120['DATE'])\n",
    "data = pd.merge(data, tbill_T120, left_on='Date', right_on='DATE', how='left', suffixes=('', '_T5'))\n",
    "data.drop(columns={'DATE'}, inplace=True)"
   ]
  },
  {
   "cell_type": "markdown",
   "metadata": {},
   "source": [
    "### Get the certificate of deposit rates from downloaded public datasets:"
   ]
  },
  {
   "cell_type": "code",
   "execution_count": 508,
   "metadata": {},
   "outputs": [],
   "source": [
    "# Certificate of deposit rates\n",
    "cd1m = pd.read_csv('CD1M.csv')\n",
    "cd3m = pd.read_csv('CD3M.csv')\n",
    "cd6m = pd.read_csv('CD6M.csv')\n",
    "\n",
    "new_row = pd.DataFrame({'DATE':['2013-06-01'], 'CD1M' :[0]})\n",
    "cd1m = pd.concat([cd1m, new_row], ignore_index=True)\n",
    "cd1m['DATE'] = pd.to_datetime(cd1m['DATE'])\n",
    "cd1m.set_index('DATE', inplace=True)\n",
    "cd1m = cd1m.resample('D').ffill()\n",
    "cd1m.reset_index(inplace=True)\n",
    "data = pd.merge(data, cd1m, left_on='Date', right_on='DATE', how='left')\n",
    "data.drop(columns={'DATE'}, inplace=True)\n",
    "\n",
    "new_row = pd.DataFrame({'DATE':['2013-06-01'], 'CD3M' :[0]})\n",
    "cd3m = pd.concat([cd3m, new_row], ignore_index=True)\n",
    "cd3m['DATE'] = pd.to_datetime(cd3m['DATE'])\n",
    "cd3m.set_index('DATE', inplace=True)\n",
    "cd3m = cd3m.resample('D').ffill()\n",
    "cd3m.reset_index(inplace=True)\n",
    "data = pd.merge(data, cd3m, left_on='Date', right_on='DATE', how='left')\n",
    "data.drop(columns={'DATE'}, inplace=True)\n",
    "\n",
    "new_row = pd.DataFrame({'DATE':['2013-06-01'], 'CD6M' :[0]})\n",
    "cd6m = pd.concat([cd6m, new_row], ignore_index=True)\n",
    "cd6m['DATE'] = pd.to_datetime(cd6m['DATE'])\n",
    "cd6m.set_index('DATE', inplace=True)\n",
    "cd6m = cd6m.resample('D').ffill()\n",
    "cd6m.reset_index(inplace=True)\n",
    "data = pd.merge(data, cd6m, left_on='Date', right_on='DATE', how='left')\n",
    "data.drop(columns={'DATE'}, inplace=True)"
   ]
  },
  {
   "cell_type": "markdown",
   "metadata": {},
   "source": [
    "### Get the close prices for oil and gold from downloaded public datasets:"
   ]
  },
  {
   "cell_type": "code",
   "execution_count": 509,
   "metadata": {},
   "outputs": [],
   "source": [
    "# Commodities\n",
    "oil = pd.read_csv('D_CL.csv')\n",
    "oil.rename(columns={'Date' : 'DATE', 'Close': 'Oil'}, inplace=True)\n",
    "\n",
    "gold = pd.read_csv('gold.csv')\n",
    "gold.rename(columns={'Date' : 'DATE', 'Close': 'Gold'}, inplace=True)\n",
    "\n",
    "oil['DATE'] = pd.to_datetime(oil['DATE'])\n",
    "data = pd.merge(data, oil[['DATE', 'Oil']], left_on='Date', right_on='DATE', how='left', suffixes=('', '_T5'))\n",
    "data.drop(columns={'DATE'}, inplace=True)\n",
    "\n",
    "gold['DATE'] = pd.to_datetime(gold['DATE'])\n",
    "data = pd.merge(data, gold[['DATE', 'Gold']], left_on='Date', right_on='DATE', how='left', suffixes=('', '_T5'))\n",
    "data.drop(columns={'DATE'}, inplace=True)"
   ]
  },
  {
   "cell_type": "markdown",
   "metadata": {},
   "source": [
    "### Get Market yield from downloaded public datasets:"
   ]
  },
  {
   "cell_type": "code",
   "execution_count": 510,
   "metadata": {},
   "outputs": [],
   "source": [
    "# Market yield\n",
    "y = pd.read_csv(\"FRB_H15.csv\", skiprows=5)\n",
    "y['Time Period'] = pd.to_datetime(y['Time Period'])\n",
    "y.rename(columns={'RIFLGFCM03_N.B': 'CTB3M', 'RIFLGFCM06_N.B': 'CTB6M', 'RIFLGFCY01_N.B': 'CTB1Y', 'RIFLGFCY05_N.B': 'CTB5Y', 'RIFLGFCY10_N.B': 'CTB10Y'}, inplace=True)\n",
    "\n",
    "\n",
    "data = pd.merge(data, y[['Time Period', 'CTB3M', 'CTB6M', 'CTB1Y', 'CTB5Y', 'CTB10Y']], left_on='Date', right_on='Time Period', how='left', suffixes=('', '_T5'))\n",
    "data.drop(columns={'Time Period'}, inplace=True)"
   ]
  },
  {
   "cell_type": "markdown",
   "metadata": {},
   "source": [
    "### Get Moody's yield from public datasets:"
   ]
  },
  {
   "cell_type": "code",
   "execution_count": 511,
   "metadata": {},
   "outputs": [],
   "source": [
    "# Moody's Yield\n",
    "aaa = pd.read_csv('RIMLPAAARNM.csv')    # AAA\n",
    "baa = pd.read_csv('RIMLPBAARNA.csv')    # BAA\n",
    "\n",
    "aaa.rename(columns={'RIMLPAAARNM': 'AAA'}, inplace=True)\n",
    "aaa['DATE'] = pd.to_datetime(aaa['DATE'])\n",
    "aaa.set_index('DATE', inplace=True)\n",
    "aaa = aaa.resample('D').ffill()\n",
    "aaa.reset_index(inplace=True)\n",
    "data = pd.merge(data, aaa, left_on='Date', right_on='DATE', how='left')\n",
    "data.drop(columns={'DATE'}, inplace=True)\n",
    "\n",
    "baa.rename(columns={'RIMLPBAARNA': 'BAA'}, inplace=True)\n",
    "baa['DATE'] = pd.to_datetime(baa['DATE'])\n",
    "baa.set_index('DATE', inplace=True)\n",
    "baa = baa.resample('M').ffill()\n",
    "baa = baa.resample('D').ffill()\n",
    "baa.reset_index(inplace=True)\n",
    "data = pd.merge(data, baa, left_on='Date', right_on='DATE', how='left')\n",
    "data.drop(columns={'DATE'}, inplace=True)"
   ]
  },
  {
   "cell_type": "code",
   "execution_count": 512,
   "metadata": {},
   "outputs": [],
   "source": [
    "# Convert all data to numerical values for next steps\n",
    "for column in data.columns:\n",
    "    if column != 'Date':\n",
    "        data[column] = pd.to_numeric(data[column], errors='coerce')"
   ]
  },
  {
   "cell_type": "markdown",
   "metadata": {},
   "source": [
    "### Get the term and default spreads:"
   ]
  },
  {
   "cell_type": "code",
   "execution_count": 513,
   "metadata": {},
   "outputs": [],
   "source": [
    "# Term and default spreads\n",
    "data['TE1'] = data['T120'] - data['T1']\n",
    "data['TE2'] = data['T120'] - data['T3']\n",
    "data['TE3'] = data['T120'] - data['T6']\n",
    "\n",
    "data['TE5'] = data['T3'] - data['T1']\n",
    "data['TE6'] = data['T6'] - data['T1']\n",
    "\n",
    "data['DE1'] = data['BAA'] - data['AAA']\n",
    "data['DE2'] = data['BAA'] - data['T120']\n",
    "\n",
    "data['DE4'] = data['BAA'] - data['T6']\n",
    "data['DE5'] = data['BAA'] - data['T3']\n",
    "data['DE6'] = data['BAA'] - data['T1']\n",
    "\n",
    "data['DE7'] = data['CD6M'] - data['T6']"
   ]
  },
  {
   "cell_type": "markdown",
   "metadata": {},
   "source": [
    "### Get currencies from public datasets:"
   ]
  },
  {
   "cell_type": "code",
   "execution_count": 514,
   "metadata": {},
   "outputs": [],
   "source": [
    "# Currencies\n",
    "jpy = pd.read_csv('USD_JPY Historical Data.csv')\n",
    "gbp = pd.read_csv('USD_GBP Historical Data.csv')\n",
    "cad = pd.read_csv('USD_CAD Historical Data.csv')\n",
    "cny = pd.read_csv('USD_CNY Historical Data.csv')\n",
    "\n",
    "jpy.reset_index(inplace=True)\n",
    "jpy.rename(columns={'Date' : 'DATE', 'Price': 'JPY'}, inplace=True)\n",
    "jpy['DATE'] = pd.to_datetime(jpy['DATE'])\n",
    "data = pd.merge(data, jpy[['DATE', 'JPY']], left_on='Date', right_on='DATE', how='left', suffixes=('', '_T1'))\n",
    "data.drop(columns={'DATE'}, inplace=True)\n",
    "\n",
    "gbp.reset_index(inplace=True)\n",
    "gbp.rename(columns={'Date' : 'DATE', 'Price': 'GBP'}, inplace=True)\n",
    "gbp['DATE'] = pd.to_datetime(gbp['DATE'])\n",
    "data = pd.merge(data, gbp[['DATE', 'GBP']], left_on='Date', right_on='DATE', how='left', suffixes=('', '_T1'))\n",
    "data.drop(columns={'DATE'}, inplace=True)\n",
    "\n",
    "cad.reset_index(inplace=True)\n",
    "cad.rename(columns={'Date' : 'DATE', 'Price': 'CAD'}, inplace=True)\n",
    "cad['DATE'] = pd.to_datetime(cad['DATE'])\n",
    "data = pd.merge(data, cad[['DATE', 'CAD']], left_on='Date', right_on='DATE', how='left', suffixes=('', '_T1'))\n",
    "data.drop(columns={'DATE'}, inplace=True)\n",
    "\n",
    "cny.reset_index(inplace=True)\n",
    "cny.rename(columns={'Date' : 'DATE', 'Price': 'CNY'}, inplace=True)\n",
    "cny['DATE'] = pd.to_datetime(cny['DATE'])\n",
    "data = pd.merge(data, cny[['DATE', 'CNY']], left_on='Date', right_on='DATE', how='left', suffixes=('', '_T1'))\n",
    "data.drop(columns={'DATE'}, inplace=True)"
   ]
  },
  {
   "cell_type": "markdown",
   "metadata": {},
   "source": [
    "### Get different indexes and stocks from yahoo finance:"
   ]
  },
  {
   "cell_type": "code",
   "execution_count": 515,
   "metadata": {},
   "outputs": [
    {
     "name": "stderr",
     "output_type": "stream",
     "text": [
      "[*********************100%%**********************]  1 of 1 completed\n",
      "[*********************100%%**********************]  1 of 1 completed\n",
      "[*********************100%%**********************]  1 of 1 completed\n",
      "[*********************100%%**********************]  1 of 1 completed\n",
      "[*********************100%%**********************]  1 of 1 completed\n",
      "[*********************100%%**********************]  1 of 1 completed\n",
      "[*********************100%%**********************]  1 of 1 completed\n",
      "[*********************100%%**********************]  1 of 1 completed\n",
      "[*********************100%%**********************]  1 of 1 completed\n",
      "[*********************100%%**********************]  1 of 1 completed\n",
      "[*********************100%%**********************]  1 of 1 completed\n",
      "[*********************100%%**********************]  1 of 1 completed\n",
      "[*********************100%%**********************]  1 of 1 completed\n",
      "[*********************100%%**********************]  1 of 1 completed\n",
      "[*********************100%%**********************]  1 of 1 completed\n",
      "[*********************100%%**********************]  1 of 1 completed\n",
      "[*********************100%%**********************]  1 of 1 completed\n",
      "[*********************100%%**********************]  1 of 1 completed\n",
      "[*********************100%%**********************]  1 of 1 completed\n",
      "[*********************100%%**********************]  1 of 1 completed\n",
      "[*********************100%%**********************]  1 of 1 completed\n",
      "[*********************100%%**********************]  1 of 1 completed\n",
      "[*********************100%%**********************]  1 of 1 completed\n"
     ]
    }
   ],
   "source": [
    "# Indexes\n",
    "hsi = yf.download(\"HSI\", start=start_date, end=end_date)\n",
    "sse = yf.download(\"000001.SS\", start=start_date, end=end_date)\n",
    "fchi = yf.download(\"^FCHI\", start=start_date, end=end_date)\n",
    "ftse = yf.download(\"^FTSE\", start=start_date, end=end_date)\n",
    "gdaxi = yf.download(\"^GDAXI\", start=start_date, end=end_date)\n",
    "dji = yf.download(\"^DJI\", start=start_date, end=end_date)\n",
    "ixic = yf.download(\"^IXIC\", start=start_date, end=end_date)\n",
    "\n",
    "\n",
    "hsi.reset_index(inplace=True)\n",
    "hsi.rename(columns={'Date' : 'DATE', 'Close': 'HSI'}, inplace=True)\n",
    "hsi['DATE'] = pd.to_datetime(hsi['DATE'])\n",
    "data = pd.merge(data, hsi[['DATE', 'HSI']], left_on='Date', right_on='DATE', how='left', suffixes=('', '_T1'))\n",
    "data.drop(columns={'DATE'}, inplace=True)\n",
    "\n",
    "sse.reset_index(inplace=True)\n",
    "sse.rename(columns={'Date' : 'DATE', 'Close': 'SSE'}, inplace=True)\n",
    "sse['DATE'] = pd.to_datetime(sse['DATE'])\n",
    "data = pd.merge(data, sse[['DATE', 'SSE']], left_on='Date', right_on='DATE', how='left', suffixes=('', '_T1'))\n",
    "data.drop(columns={'DATE'}, inplace=True)\n",
    "\n",
    "fchi.reset_index(inplace=True)\n",
    "fchi.rename(columns={'Date' : 'DATE', 'Close': 'FCHI'}, inplace=True)\n",
    "fchi['DATE'] = pd.to_datetime(fchi['DATE'])\n",
    "data = pd.merge(data, fchi[['DATE', 'FCHI']], left_on='Date', right_on='DATE', how='left', suffixes=('', '_T1'))\n",
    "data.drop(columns={'DATE'}, inplace=True)\n",
    "\n",
    "ftse.reset_index(inplace=True)\n",
    "ftse.rename(columns={'Date' : 'DATE', 'Close': 'FTSE'}, inplace=True)\n",
    "ftse['DATE'] = pd.to_datetime(ftse['DATE'])\n",
    "data = pd.merge(data, ftse[['DATE', 'FTSE']], left_on='Date', right_on='DATE', how='left', suffixes=('', '_T1'))\n",
    "data.drop(columns={'DATE'}, inplace=True)\n",
    "\n",
    "gdaxi.reset_index(inplace=True)\n",
    "gdaxi.rename(columns={'Date' : 'DATE', 'Close': 'GDAXI'}, inplace=True)\n",
    "gdaxi['DATE'] = pd.to_datetime(gdaxi['DATE'])\n",
    "data = pd.merge(data, gdaxi[['DATE', 'GDAXI']], left_on='Date', right_on='DATE', how='left', suffixes=('', '_T1'))\n",
    "data.drop(columns={'DATE'}, inplace=True)\n",
    "\n",
    "dji.reset_index(inplace=True)\n",
    "dji.rename(columns={'Date' : 'DATE', 'Close': 'DJI'}, inplace=True)\n",
    "dji['DATE'] = pd.to_datetime(dji['DATE'])\n",
    "data = pd.merge(data, dji[['DATE', 'DJI']], left_on='Date', right_on='DATE', how='left', suffixes=('', '_T1'))\n",
    "data.drop(columns={'DATE'}, inplace=True)\n",
    "\n",
    "ixic.reset_index(inplace=True)\n",
    "ixic.rename(columns={'Date' : 'DATE', 'Close': 'IXIC'}, inplace=True)\n",
    "ixic['DATE'] = pd.to_datetime(ixic['DATE'])\n",
    "data = pd.merge(data, ixic[['DATE', 'IXIC']], left_on='Date', right_on='DATE', how='left', suffixes=('', '_T1'))\n",
    "data.drop(columns={'DATE'}, inplace=True)\n",
    "\n",
    "# Stocks\n",
    "aapl = yf.download(\"AAPL\", start=start_date, end=end_date)\n",
    "msft = yf.download(\"MSFT\", start=start_date, end=end_date)\n",
    "xom = yf.download(\"XOM\", start=start_date, end=end_date)\n",
    "ge = yf.download(\"GE\", start=start_date, end=end_date)\n",
    "jnj = yf.download(\"JNJ\", start=start_date, end=end_date)\n",
    "wfc = yf.download(\"WFC\", start=start_date, end=end_date)\n",
    "amzn = yf.download(\"AMZN\", start=start_date, end=end_date)\n",
    "jpm = yf.download(\"JPM\", start=start_date, end=end_date)\n",
    "\n",
    "names = ['AAPL', 'MSFT', 'XOM', 'GE', 'JNJ', 'WFC', 'AMZN', 'JPM']\n",
    "stocks = []\n",
    "\n",
    "for name in names:\n",
    "    stocks.append(yf.download(name, start=start_date, end=end_date))\n",
    "\n",
    "for i in range(len(stocks)):\n",
    "    stocks[i].reset_index(inplace=True)\n",
    "    stocks[i].rename(columns={'Date' : 'DATE', 'Close': names[i]}, inplace=True)\n",
    "    stocks[i]['DATE'] = pd.to_datetime(stocks[i]['DATE'])\n",
    "    data = pd.merge(data, stocks[i][['DATE', names[i]]], left_on='Date', right_on='DATE', how='left', suffixes=('', '_T1'))\n",
    "    data.drop(columns={'DATE'}, inplace=True)"
   ]
  },
  {
   "cell_type": "code",
   "execution_count": 516,
   "metadata": {},
   "outputs": [
    {
     "data": {
      "text/html": [
       "<div>\n",
       "<style scoped>\n",
       "    .dataframe tbody tr th:only-of-type {\n",
       "        vertical-align: middle;\n",
       "    }\n",
       "\n",
       "    .dataframe tbody tr th {\n",
       "        vertical-align: top;\n",
       "    }\n",
       "\n",
       "    .dataframe thead th {\n",
       "        text-align: right;\n",
       "    }\n",
       "</style>\n",
       "<table border=\"1\" class=\"dataframe\">\n",
       "  <thead>\n",
       "    <tr style=\"text-align: right;\">\n",
       "      <th></th>\n",
       "      <th>Date</th>\n",
       "      <th>Close</th>\n",
       "      <th>Volume</th>\n",
       "      <th>SPYt</th>\n",
       "      <th>SPYt1</th>\n",
       "      <th>SPYt2</th>\n",
       "      <th>SPYt3</th>\n",
       "      <th>RDP5</th>\n",
       "      <th>RDP10</th>\n",
       "      <th>RDP15</th>\n",
       "      <th>...</th>\n",
       "      <th>DJI</th>\n",
       "      <th>IXIC</th>\n",
       "      <th>AAPL</th>\n",
       "      <th>MSFT</th>\n",
       "      <th>XOM</th>\n",
       "      <th>GE</th>\n",
       "      <th>JNJ</th>\n",
       "      <th>WFC</th>\n",
       "      <th>AMZN</th>\n",
       "      <th>JPM</th>\n",
       "    </tr>\n",
       "  </thead>\n",
       "  <tbody>\n",
       "    <tr>\n",
       "      <th>0</th>\n",
       "      <td>2003-06-02</td>\n",
       "      <td>97.349998</td>\n",
       "      <td>50305500</td>\n",
       "      <td>NaN</td>\n",
       "      <td>NaN</td>\n",
       "      <td>NaN</td>\n",
       "      <td>NaN</td>\n",
       "      <td>NaN</td>\n",
       "      <td>NaN</td>\n",
       "      <td>NaN</td>\n",
       "      <td>...</td>\n",
       "      <td>8897.809570</td>\n",
       "      <td>1590.750000</td>\n",
       "      <td>0.311607</td>\n",
       "      <td>24.639999</td>\n",
       "      <td>36.580002</td>\n",
       "      <td>138.980682</td>\n",
       "      <td>53.220001</td>\n",
       "      <td>24.450001</td>\n",
       "      <td>1.7700</td>\n",
       "      <td>33.919998</td>\n",
       "    </tr>\n",
       "    <tr>\n",
       "      <th>1</th>\n",
       "      <td>2003-06-03</td>\n",
       "      <td>97.750000</td>\n",
       "      <td>38254500</td>\n",
       "      <td>0.004109</td>\n",
       "      <td>NaN</td>\n",
       "      <td>NaN</td>\n",
       "      <td>NaN</td>\n",
       "      <td>NaN</td>\n",
       "      <td>NaN</td>\n",
       "      <td>NaN</td>\n",
       "      <td>...</td>\n",
       "      <td>8922.950195</td>\n",
       "      <td>1603.560059</td>\n",
       "      <td>0.309107</td>\n",
       "      <td>24.879999</td>\n",
       "      <td>36.980000</td>\n",
       "      <td>139.220306</td>\n",
       "      <td>53.849998</td>\n",
       "      <td>24.635000</td>\n",
       "      <td>1.7615</td>\n",
       "      <td>33.820000</td>\n",
       "    </tr>\n",
       "    <tr>\n",
       "      <th>2</th>\n",
       "      <td>2003-06-04</td>\n",
       "      <td>99.160004</td>\n",
       "      <td>49360700</td>\n",
       "      <td>0.014425</td>\n",
       "      <td>0.004109</td>\n",
       "      <td>NaN</td>\n",
       "      <td>NaN</td>\n",
       "      <td>NaN</td>\n",
       "      <td>NaN</td>\n",
       "      <td>NaN</td>\n",
       "      <td>...</td>\n",
       "      <td>9038.980469</td>\n",
       "      <td>1634.650024</td>\n",
       "      <td>0.314286</td>\n",
       "      <td>24.870001</td>\n",
       "      <td>37.400002</td>\n",
       "      <td>140.705963</td>\n",
       "      <td>54.060001</td>\n",
       "      <td>25.120001</td>\n",
       "      <td>1.7695</td>\n",
       "      <td>34.689999</td>\n",
       "    </tr>\n",
       "    <tr>\n",
       "      <th>3</th>\n",
       "      <td>2003-06-05</td>\n",
       "      <td>99.650002</td>\n",
       "      <td>46262400</td>\n",
       "      <td>0.004941</td>\n",
       "      <td>0.014425</td>\n",
       "      <td>0.004109</td>\n",
       "      <td>NaN</td>\n",
       "      <td>NaN</td>\n",
       "      <td>NaN</td>\n",
       "      <td>NaN</td>\n",
       "      <td>...</td>\n",
       "      <td>9041.299805</td>\n",
       "      <td>1646.010010</td>\n",
       "      <td>0.315000</td>\n",
       "      <td>24.090000</td>\n",
       "      <td>37.160000</td>\n",
       "      <td>142.718781</td>\n",
       "      <td>52.020000</td>\n",
       "      <td>25.299999</td>\n",
       "      <td>1.7760</td>\n",
       "      <td>35.099998</td>\n",
       "    </tr>\n",
       "    <tr>\n",
       "      <th>4</th>\n",
       "      <td>2003-06-06</td>\n",
       "      <td>99.260002</td>\n",
       "      <td>60356800</td>\n",
       "      <td>-0.003914</td>\n",
       "      <td>0.004941</td>\n",
       "      <td>0.014425</td>\n",
       "      <td>0.004109</td>\n",
       "      <td>NaN</td>\n",
       "      <td>NaN</td>\n",
       "      <td>NaN</td>\n",
       "      <td>...</td>\n",
       "      <td>9062.790039</td>\n",
       "      <td>1627.420044</td>\n",
       "      <td>0.306250</td>\n",
       "      <td>23.670000</td>\n",
       "      <td>37.340000</td>\n",
       "      <td>145.210846</td>\n",
       "      <td>52.750000</td>\n",
       "      <td>25.150000</td>\n",
       "      <td>1.6675</td>\n",
       "      <td>35.130001</td>\n",
       "    </tr>\n",
       "  </tbody>\n",
       "</table>\n",
       "<p>5 rows × 62 columns</p>\n",
       "</div>"
      ],
      "text/plain": [
       "        Date      Close    Volume      SPYt     SPYt1     SPYt2     SPYt3  \\\n",
       "0 2003-06-02  97.349998  50305500       NaN       NaN       NaN       NaN   \n",
       "1 2003-06-03  97.750000  38254500  0.004109       NaN       NaN       NaN   \n",
       "2 2003-06-04  99.160004  49360700  0.014425  0.004109       NaN       NaN   \n",
       "3 2003-06-05  99.650002  46262400  0.004941  0.014425  0.004109       NaN   \n",
       "4 2003-06-06  99.260002  60356800 -0.003914  0.004941  0.014425  0.004109   \n",
       "\n",
       "   RDP5  RDP10  RDP15  ...          DJI         IXIC      AAPL       MSFT  \\\n",
       "0   NaN    NaN    NaN  ...  8897.809570  1590.750000  0.311607  24.639999   \n",
       "1   NaN    NaN    NaN  ...  8922.950195  1603.560059  0.309107  24.879999   \n",
       "2   NaN    NaN    NaN  ...  9038.980469  1634.650024  0.314286  24.870001   \n",
       "3   NaN    NaN    NaN  ...  9041.299805  1646.010010  0.315000  24.090000   \n",
       "4   NaN    NaN    NaN  ...  9062.790039  1627.420044  0.306250  23.670000   \n",
       "\n",
       "         XOM          GE        JNJ        WFC    AMZN        JPM  \n",
       "0  36.580002  138.980682  53.220001  24.450001  1.7700  33.919998  \n",
       "1  36.980000  139.220306  53.849998  24.635000  1.7615  33.820000  \n",
       "2  37.400002  140.705963  54.060001  25.120001  1.7695  34.689999  \n",
       "3  37.160000  142.718781  52.020000  25.299999  1.7760  35.099998  \n",
       "4  37.340000  145.210846  52.750000  25.150000  1.6675  35.130001  \n",
       "\n",
       "[5 rows x 62 columns]"
      ]
     },
     "execution_count": 516,
     "metadata": {},
     "output_type": "execute_result"
    }
   ],
   "source": [
    "data.head()"
   ]
  },
  {
   "cell_type": "code",
   "execution_count": 517,
   "metadata": {},
   "outputs": [
    {
     "name": "stdout",
     "output_type": "stream",
     "text": [
      "Dataset has dimension : 62x2517\n"
     ]
    }
   ],
   "source": [
    "print('Dataset has dimension : ' + str(len(data.columns)) + 'x' + str(len(data)))"
   ]
  },
  {
   "cell_type": "markdown",
   "metadata": {},
   "source": [
    "# Data preprocessing:"
   ]
  },
  {
   "cell_type": "markdown",
   "metadata": {},
   "source": [
    "### Before preprocessing:"
   ]
  },
  {
   "cell_type": "code",
   "execution_count": 518,
   "metadata": {},
   "outputs": [],
   "source": [
    "original_data = data.copy()"
   ]
  },
  {
   "cell_type": "markdown",
   "metadata": {},
   "source": [
    "### Dealing with missing values:"
   ]
  },
  {
   "cell_type": "code",
   "execution_count": 519,
   "metadata": {},
   "outputs": [],
   "source": [
    "numeric_col = data.select_dtypes(include=[np.number]).columns\n",
    "\n",
    "\n",
    "for col in numeric_col:\n",
    "    \n",
    "    # Replace the first n nan of each column by the mean of the following n non missing values\n",
    "    if pd.isna(data[col].iloc[0]):\n",
    "        # Calculate the length of consecutive NaNs from the start\n",
    "        length_nan = data[col].isnull().cumsum().iloc[-1]  # This counts all NaNs cumulatively\n",
    "\n",
    "        # Find the next n non-missing values after the initial NaNs\n",
    "        non_missing_after_nans = data[col][length_nan:].dropna().head(length_nan)\n",
    "        if not non_missing_after_nans.empty:\n",
    "\n",
    "            mean_value = non_missing_after_nans.mean()\n",
    "            data.loc[data[col].index[:length_nan], col] = mean_value"
   ]
  },
  {
   "cell_type": "code",
   "execution_count": 520,
   "metadata": {},
   "outputs": [],
   "source": [
    "# Replace the other missing values of each column by the value before\n",
    "\n",
    "for col in numeric_col: \n",
    "    \n",
    "    val = data[col][0]\n",
    "    \n",
    "    for i in range(len(data[col])):\n",
    "        \n",
    "        if np.isnan(data[col][i]):\n",
    "            data.loc[i, col] = val\n",
    "            \n",
    "        else:\n",
    "            \n",
    "            val = data[col][i]"
   ]
  },
  {
   "cell_type": "markdown",
   "metadata": {},
   "source": [
    "### Dealing with outliers:"
   ]
  },
  {
   "cell_type": "code",
   "execution_count": 521,
   "metadata": {},
   "outputs": [],
   "source": [
    "numeric_col = data.select_dtypes(include=[np.number]).columns\n",
    "\n",
    "# Getting rid of missing values by filling them with the average of 3 closest values\n",
    "for column in numeric_col:\n",
    "\n",
    "    data[column] = data[column].fillna(data[column].rolling(window=3, min_periods=1, center=True).mean())\n",
    "\n",
    "# Changing outliers to the closest IQR boundary\n",
    "for column in numeric_col:\n",
    "    \n",
    "    Q1 = data[column].quantile(0.25)\n",
    "    Q3 = data[column].quantile(0.75)\n",
    "    IQR = Q3 - Q1\n",
    "    lower_bound = Q1 - 1.5 * IQR\n",
    "    upper_bound = Q3 + 1.5 * IQR\n",
    "    \n",
    "    data[column] = np.where(data[column] < lower_bound, lower_bound, data[column])\n",
    "    data[column] = np.where(data[column] > upper_bound, upper_bound, data[column])"
   ]
  },
  {
   "cell_type": "markdown",
   "metadata": {},
   "source": [
    "### Comparaison with data after preprocessing:"
   ]
  },
  {
   "cell_type": "code",
   "execution_count": 522,
   "metadata": {},
   "outputs": [
    {
     "data": {
      "image/png": "[encoded data removed]",
      "text/plain": [
       "<Figure size 1200x600 with 2 Axes>"
      ]
     },
     "metadata": {},
     "output_type": "display_data"
    }
   ],
   "source": [
    "fig, axes = plt.subplots(nrows=1, ncols=2, figsize=(12, 6))  # nrows=1, ncols=2 for two plots on the same row\n",
    "\n",
    "# Plotting histogram for the 'close' column on the first subplot\n",
    "axes[0].hist(original_data['SPYt'], bins=30, alpha=0.7, color='blue')\n",
    "axes[0].set_title('Histogram of SPY returns')\n",
    "axes[0].set_xlabel('SPY returns')\n",
    "axes[0].set_ylabel('Frequency')\n",
    "axes[0].grid(True)\n",
    "\n",
    "# Plotting histogram for the 'open' column on the second subplot\n",
    "axes[1].hist(data['SPYt'], bins=30, alpha=0.7, color='green')\n",
    "axes[1].set_title('Histogram of SPY adjusted returns')\n",
    "axes[1].set_xlabel('SPY adjusted returns')\n",
    "axes[1].set_ylabel('Frequency')\n",
    "axes[1].grid(True)\n",
    "\n",
    "# Display the figure with histograms\n",
    "plt.tight_layout()  # Adjust the layout to make sure there's no overlap\n",
    "plt.show()"
   ]
  },
  {
   "cell_type": "code",
   "execution_count": 523,
   "metadata": {},
   "outputs": [],
   "source": [
    "# Create the final full dataset\n",
    "data.to_csv('raw_dataset.csv')"
   ]
  },
  {
   "cell_type": "code",
   "execution_count": null,
   "metadata": {},
   "outputs": [],
   "source": []
  }
 ],
 "metadata": {
  "kernelspec": {
   "display_name": "Python 3 (ipykernel)",
   "language": "python",
   "name": "python3"
  },
  "language_info": {
   "codemirror_mode": {
    "name": "ipython",
    "version": 3
   },
   "file_extension": ".py",
   "mimetype": "text/x-python",
   "name": "python",
   "nbconvert_exporter": "python",
   "pygments_lexer": "ipython3",
   "version": "3.11.4"
  }
 },
 "nbformat": 4,
 "nbformat_minor": 2
}
